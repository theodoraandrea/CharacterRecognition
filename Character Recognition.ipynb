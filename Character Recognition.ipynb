{
 "cells": [
  {
   "cell_type": "code",
   "execution_count": 3,
   "id": "4b9b1e62-6de1-4df2-ba1e-9788de753dfd",
   "metadata": {},
   "outputs": [],
   "source": [
    "import pytesseract\n",
    "import cv2"
   ]
  },
  {
   "cell_type": "code",
   "execution_count": 4,
   "id": "e4ee0bd4-2e7a-48c6-bf41-d6cf4b2363f8",
   "metadata": {},
   "outputs": [],
   "source": [
    "from tkinter import Tk, filedialog"
   ]
  },
  {
   "cell_type": "code",
   "execution_count": 5,
   "id": "628699ac-3740-4b8e-97cc-a43b015e105c",
   "metadata": {},
   "outputs": [
    {
     "data": {
      "text/plain": [
       "<StateSpec object: ''>"
      ]
     },
     "execution_count": 5,
     "metadata": {},
     "output_type": "execute_result"
    }
   ],
   "source": [
    "root = Tk()\n",
    "root.withdraw()"
   ]
  },
  {
   "cell_type": "code",
   "execution_count": 9,
   "id": "97952d6b-d977-4af6-9aa8-a15d09fcc03a",
   "metadata": {},
   "outputs": [],
   "source": [
    "file_path = filedialog.askopenfilename(title=\"Select an Image\", \n",
    "                                       filetypes=[(\"Image Files\", \"*.jpg *.jpeg *.png *.bmp *.tiff\")])\n"
   ]
  },
  {
   "cell_type": "code",
   "execution_count": 10,
   "id": "a53d9899-6051-46a9-aa3f-e423d69f166d",
   "metadata": {},
   "outputs": [],
   "source": [
    "if file_path:\n",
    "    image = cv2.imread(file_path)\n",
    "\n",
    "    cv2.imshow(\"Uploaded Image\", image)\n",
    "else:\n",
    "    print(\"No file selected.\")"
   ]
  },
  {
   "cell_type": "code",
   "execution_count": 12,
   "id": "0e87fad2-d8cb-45bc-9e10-f61d1d9a2e5a",
   "metadata": {},
   "outputs": [],
   "source": [
    "result = pytesseract.image_to_string(image\n",
    "        "
   ]
  },
  {
   "cell_type": "code",
   "execution_count": null,
   "id": "be1f100e-7cfa-470a-b30e-7c53a3e4ad91",
   "metadata": {},
   "outputs": [],
   "source": []
  }
 ],
 "metadata": {
  "kernelspec": {
   "display_name": "Python 3 (ipykernel)",
   "language": "python",
   "name": "python3"
  },
  "language_info": {
   "codemirror_mode": {
    "name": "ipython",
    "version": 3
   },
   "file_extension": ".py",
   "mimetype": "text/x-python",
   "name": "python",
   "nbconvert_exporter": "python",
   "pygments_lexer": "ipython3",
   "version": "3.12.4"
  }
 },
 "nbformat": 4,
 "nbformat_minor": 5
}
